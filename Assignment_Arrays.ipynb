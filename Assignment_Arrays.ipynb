{
 "cells": [
  {
   "cell_type": "markdown",
   "id": "c2bf1df1-8bb5-4ef4-8f16-e75c638318ee",
   "metadata": {},
   "source": [
    "#### 1. Given an array, check if it contains any duplicates or not.\n",
    "#### arr = [1, 2, 4, 2, 5, 9]\n",
    "- Output = True"
   ]
  },
  {
   "cell_type": "code",
   "execution_count": 1,
   "id": "a8ca5005-364b-4003-9dd5-477d8020741f",
   "metadata": {},
   "outputs": [
    {
     "name": "stdout",
     "output_type": "stream",
     "text": [
      "True\n"
     ]
    }
   ],
   "source": [
    "#method to check if an array contains duplicate\n",
    "def contains_duplicates(arr):\n",
    "    seen = set()\n",
    "    for num in arr:\n",
    "        if num in seen:\n",
    "            return True\n",
    "        seen.add(num)\n",
    "    return False\n",
    "\n",
    "#driver code\n",
    "arr1 = [1, 2, 4, 2, 5, 9]\n",
    "output1 = contains_duplicates(arr1)\n",
    "print(output1)  "
   ]
  },
  {
   "cell_type": "markdown",
   "id": "8506032a-470f-4274-ad83-9d3ab5c2c5b8",
   "metadata": {},
   "source": [
    "#### 2. Given an array and an integer k, rotate the array to the right by k steps.\n",
    "#### arr = [1, 2, 3, 4, 5, 6, 7] k = 3\n",
    "- Output = [5, 6, 7, 1, 2, 3, 4]"
   ]
  },
  {
   "cell_type": "code",
   "execution_count": 2,
   "id": "130e7487-c5d9-42fd-95d0-bb5aa0a2a896",
   "metadata": {},
   "outputs": [
    {
     "name": "stdout",
     "output_type": "stream",
     "text": [
      "[2, 5, 9, 1, 2, 4]\n"
     ]
    }
   ],
   "source": [
    "#method to rotate an array by k\n",
    "def rotate(arr,k):\n",
    "    k=k%len(arr)\n",
    "    return arr[k:]+arr[:k]\n",
    "\n",
    "#driver code\n",
    "arr1 = [1, 2, 4, 2, 5, 9]\n",
    "output1 = rotate(arr1,3)\n",
    "print(output1)  "
   ]
  },
  {
   "cell_type": "markdown",
   "id": "2674d145-f102-4b13-ab85-69b3d61c29ed",
   "metadata": {
    "tags": []
   },
   "source": [
    "#### 3. Reverse the given array in-place, means without using any extra data structure.\n",
    "#### arr = [2, 4, 5, 7, 9, 12]\n",
    "- Output = [12, 9, 7, 5, 4, 2]"
   ]
  },
  {
   "cell_type": "code",
   "execution_count": 10,
   "id": "2f9e2734-19ab-4b54-8ce3-0a2f5d6c467c",
   "metadata": {},
   "outputs": [
    {
     "name": "stdout",
     "output_type": "stream",
     "text": [
      "[9, 5, 2, 4, 2, 1]\n",
      "[9, 5, 2, 4, 2, 1]\n",
      "[9, 5, 2, 4, 2, 1]\n"
     ]
    }
   ],
   "source": [
    "#method 1 to reverse an array inplace\n",
    "def rev1(arr):\n",
    "    arr.reverse()\n",
    "    return arr\n",
    "\n",
    "#method 2 to reverse an array inplace\n",
    "def rev2(arr):\n",
    "    arr[0:]=arr[::-1]\n",
    "    return arr\n",
    "#method 3 to reverse an array inplace\n",
    "def rev3(arr):\n",
    "    n=len(arr)\n",
    "    for i in range(n//2):\n",
    "        arr[i],arr[n-1-i]=arr[n-1-i],arr[i]\n",
    "    return arr\n",
    "        \n",
    "#driver code\n",
    "arr1 = [1, 2, 4, 2, 5, 9]\n",
    "arr2 = [1, 2, 4, 2, 5, 9]\n",
    "arr3 = [1, 2, 4, 2, 5, 9]\n",
    "output1 = rev1(arr1)\n",
    "output2 = rev2(arr2)\n",
    "output3 = rev3(arr3)\n",
    "print(output1)  \n",
    "print(output2)\n",
    "print(output3)"
   ]
  },
  {
   "cell_type": "markdown",
   "id": "d96e9b11-1afd-4948-80e1-7a2f68d3e701",
   "metadata": {},
   "source": [
    "#### 4. Given an array of integers, find the maximum element in an array\n",
    "#### arr = [10, 5, 20, 8, 15]\n",
    "- Output = 20"
   ]
  },
  {
   "cell_type": "code",
   "execution_count": 14,
   "id": "f1b42b3f-388b-4e02-9ec3-06df79e2c35a",
   "metadata": {},
   "outputs": [
    {
     "name": "stdout",
     "output_type": "stream",
     "text": [
      "34\n"
     ]
    }
   ],
   "source": [
    "#method to find maximum integer in an array\n",
    "def max_of(arr):\n",
    "    m=arr[0]\n",
    "    for i in range(1,len(arr)):\n",
    "        if m<arr[i]:\n",
    "            m=arr[i]\n",
    "    return m\n",
    "#driver code\n",
    "arr1 = [1, 2, 4, 2, 5, 9,34]\n",
    "output1 = max_of(arr1)\n",
    "print(output1)  "
   ]
  },
  {
   "cell_type": "markdown",
   "id": "c5e5c8d5-c1fe-4b72-8287-d60dc322b201",
   "metadata": {
    "tags": []
   },
   "source": [
    "#### 5. Given a sorted array, remove the duplicate element without using any extra data structure.\n",
    "#### arr = [1, 1, 2, 2, 2, 3, 3, 4, 4, 4, 5, 5]\n",
    "- Output = [1, 2, 3, 4, 5]"
   ]
  },
  {
   "cell_type": "code",
   "execution_count": 18,
   "id": "8b003dd5-dc8d-4d16-9b92-c17ab6c2c06e",
   "metadata": {},
   "outputs": [
    {
     "name": "stdout",
     "output_type": "stream",
     "text": [
      "[1, 2, 3, 4, 5]\n"
     ]
    }
   ],
   "source": [
    "#method to return array after removing duplicates inplace\n",
    "def remove_duplicates_sorted(arr):\n",
    "    if not arr:\n",
    "        return 0\n",
    "\n",
    "    write_index = 1 \n",
    "    for i in range(1, len(arr)):\n",
    "        if arr[i] != arr[i - 1]:\n",
    "            arr[write_index] = arr[i]\n",
    "            write_index += 1\n",
    "    return arr[:write_index]\n",
    "\n",
    "#driver code\n",
    "arr = [1, 1, 2, 2, 2, 3, 3, 4, 4, 4, 5, 5]\n",
    "output = remove_duplicates_sorted(arr)\n",
    "\n",
    "print(output)"
   ]
  },
  {
   "cell_type": "code",
   "execution_count": null,
   "id": "a2733214-3119-49cd-864f-23ca36ed7a32",
   "metadata": {},
   "outputs": [],
   "source": []
  }
 ],
 "metadata": {
  "kernelspec": {
   "display_name": "Python 3 (ipykernel)",
   "language": "python",
   "name": "python3"
  },
  "language_info": {
   "codemirror_mode": {
    "name": "ipython",
    "version": 3
   },
   "file_extension": ".py",
   "mimetype": "text/x-python",
   "name": "python",
   "nbconvert_exporter": "python",
   "pygments_lexer": "ipython3",
   "version": "3.10.8"
  }
 },
 "nbformat": 4,
 "nbformat_minor": 5
}
